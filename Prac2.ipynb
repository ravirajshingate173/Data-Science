{
 "cells": [
  {
   "cell_type": "code",
   "execution_count": 2,
   "id": "e14ec38a-4fbd-4f73-9800-a35cf33854ac",
   "metadata": {},
   "outputs": [],
   "source": [
    "import pandas as pd\n",
    "import numpy as np"
   ]
  },
  {
   "cell_type": "code",
   "execution_count": 3,
   "id": "b06df997-7d59-481c-99f7-6c6da638d05c",
   "metadata": {},
   "outputs": [],
   "source": [
    "df = pd.read_csv(\"data.csv\")"
   ]
  },
  {
   "cell_type": "code",
   "execution_count": 4,
   "id": "e859fc70-9716-4de1-864a-49828fd990db",
   "metadata": {},
   "outputs": [
    {
     "name": "stdout",
     "output_type": "stream",
     "text": [
      "      1st   2nd   3rd   4th   5th  College Code  Gender     Roll  Roll no.  \\\n",
      "0    8.11  7.68  7.11  7.43  8.18           115  Female      NaN   17020.0   \n",
      "1    6.48  5.90  4.15  4.29  4.96           115    Male      NaN   17021.0   \n",
      "2    8.41  8.24  7.52  8.25  7.75           115  Female      NaN   17022.0   \n",
      "3    7.33  6.83  6.33  6.79  6.89           115    Male      NaN   17023.0   \n",
      "4    7.89  7.34  7.22  7.32  7.46           115    Male      NaN   17024.0   \n",
      "..    ...   ...   ...   ...   ...           ...     ...      ...       ...   \n",
      "173  7.48  7.55  7.67  7.39  8.65           241       F  17048.0       NaN   \n",
      "174  7.30  6.41  6.59  7.11  7.38           241       M  17049.0       NaN   \n",
      "175  6.30  6.28  5.89  5.71  6.50           241       M  17050.0       NaN   \n",
      "176  7.04  7.10  6.81  7.00  6.92           241       M  17051.0       NaN   \n",
      "177  6.70  6.81  6.52  5.39  7.00           241       M  17052.0       NaN   \n",
      "\n",
      "     Subject Code  \n",
      "0              16  \n",
      "1              16  \n",
      "2              16  \n",
      "3              16  \n",
      "4              16  \n",
      "..            ...  \n",
      "173            28  \n",
      "174            28  \n",
      "175            28  \n",
      "176            28  \n",
      "177            28  \n",
      "\n",
      "[178 rows x 10 columns]\n"
     ]
    }
   ],
   "source": [
    "print(df)"
   ]
  },
  {
   "cell_type": "code",
   "execution_count": 5,
   "id": "56aced1b-a6b7-449e-a477-7b68276d5b9b",
   "metadata": {},
   "outputs": [
    {
     "name": "stdout",
     "output_type": "stream",
     "text": [
      "<class 'pandas.core.frame.DataFrame'>\n",
      "RangeIndex: 178 entries, 0 to 177\n",
      "Data columns (total 10 columns):\n",
      " #   Column        Non-Null Count  Dtype  \n",
      "---  ------        --------------  -----  \n",
      " 0   1st           176 non-null    float64\n",
      " 1   2nd           174 non-null    float64\n",
      " 2   3rd           176 non-null    float64\n",
      " 3   4th           173 non-null    float64\n",
      " 4   5th           172 non-null    float64\n",
      " 5   College Code  178 non-null    int64  \n",
      " 6   Gender        177 non-null    object \n",
      " 7   Roll          132 non-null    float64\n",
      " 8   Roll no.      46 non-null     float64\n",
      " 9   Subject Code  178 non-null    int64  \n",
      "dtypes: float64(7), int64(2), object(1)\n",
      "memory usage: 14.0+ KB\n"
     ]
    }
   ],
   "source": [
    "df.info()"
   ]
  },
  {
   "cell_type": "code",
   "execution_count": 6,
   "id": "6114b474-8837-47ff-b67a-1e8103c9e86f",
   "metadata": {},
   "outputs": [
    {
     "data": {
      "text/plain": [
       "1st               2\n",
       "2nd               4\n",
       "3rd               2\n",
       "4th               5\n",
       "5th               6\n",
       "College Code      0\n",
       "Gender            1\n",
       "Roll             46\n",
       "Roll no.        132\n",
       "Subject Code      0\n",
       "dtype: int64"
      ]
     },
     "execution_count": 6,
     "metadata": {},
     "output_type": "execute_result"
    }
   ],
   "source": [
    "df.isnull().sum()"
   ]
  },
  {
   "cell_type": "code",
   "execution_count": 7,
   "id": "76c73060-b8d6-4410-8067-dc713dd9bf52",
   "metadata": {},
   "outputs": [],
   "source": [
    "avg_1st_Marks = df[\"1st\"].astype(\"float64\").mean(axis=0)\n",
    "avg_2nd_Marks = df[\"2nd\"].astype(\"float64\").mean(axis=0)\n",
    "avg_3rd_Marks = df[\"3rd\"].astype(\"float64\").mean(axis=0)\n",
    "avg_4th_Marks = df[\"4th\"].astype(\"float64\").mean(axis=0)\n",
    "avg_5th_Marks = df[\"5th\"].astype(\"float64\").mean(axis=0)"
   ]
  },
  {
   "cell_type": "code",
   "execution_count": 8,
   "id": "e4709905-64d7-4bc4-bf68-65d6bcc64c15",
   "metadata": {},
   "outputs": [
    {
     "name": "stdout",
     "output_type": "stream",
     "text": [
      "Average marks of 1st paper : 7.038863636363637\n",
      "Average marks of 2nd paper : 6.943390804597701\n",
      "Average marks of 3rd paper : 6.6225\n",
      "Average marks of 4th paper : 7.027745664739886\n",
      "Average marks of 5th paper : 7.432558139534884\n"
     ]
    }
   ],
   "source": [
    "print(\"Average marks of 1st paper :\", avg_1st_Marks)\n",
    "print(\"Average marks of 2nd paper :\", avg_2nd_Marks)\n",
    "print(\"Average marks of 3rd paper :\", avg_3rd_Marks)\n",
    "print(\"Average marks of 4th paper :\", avg_4th_Marks)\n",
    "print(\"Average marks of 5th paper :\", avg_5th_Marks)"
   ]
  },
  {
   "cell_type": "code",
   "execution_count": 9,
   "id": "9aba3966-b96b-47f0-bed5-7a1be1fd2783",
   "metadata": {},
   "outputs": [],
   "source": [
    "df[\"1st\"].replace(np.nan, avg_1st_Marks, inplace = True)\n",
    "df[\"2nd\"].replace(np.nan, avg_2nd_Marks, inplace = True)\n",
    "df[\"3rd\"].replace(np.nan, avg_3rd_Marks, inplace = True)\n",
    "df[\"4th\"].replace(np.nan, avg_4th_Marks, inplace = True)\n",
    "df[\"5th\"].replace(np.nan, avg_5th_Marks, inplace = True)"
   ]
  },
  {
   "cell_type": "code",
   "execution_count": 10,
   "id": "592266ae-ff82-428b-aaed-73b8208d2f88",
   "metadata": {},
   "outputs": [
    {
     "data": {
      "text/plain": [
       "1st               0\n",
       "2nd               0\n",
       "3rd               0\n",
       "4th               0\n",
       "5th               0\n",
       "College Code      0\n",
       "Gender            1\n",
       "Roll             46\n",
       "Roll no.        132\n",
       "Subject Code      0\n",
       "dtype: int64"
      ]
     },
     "execution_count": 10,
     "metadata": {},
     "output_type": "execute_result"
    }
   ],
   "source": [
    "df.isnull().sum()"
   ]
  },
  {
   "cell_type": "code",
   "execution_count": 11,
   "id": "3445955f-af3d-4fe3-aba6-3c0551c6c65a",
   "metadata": {},
   "outputs": [],
   "source": [
    "avg_roll = df[\"Roll\"].astype(\"float64\").mean(axis=0)"
   ]
  },
  {
   "cell_type": "code",
   "execution_count": 12,
   "id": "9782c283-060b-44ce-b8b3-45bd593440c3",
   "metadata": {},
   "outputs": [
    {
     "name": "stdout",
     "output_type": "stream",
     "text": [
      "Average Roll number is :  17040.666666666668\n"
     ]
    }
   ],
   "source": [
    "print(\"Average Roll number is : \", avg_roll)"
   ]
  },
  {
   "cell_type": "code",
   "execution_count": 14,
   "id": "f35ed3ac-13ca-4643-b907-f42bc0718379",
   "metadata": {},
   "outputs": [],
   "source": [
    "df[\"Roll\"].replace(np.nan, avg_roll, inplace = True)"
   ]
  },
  {
   "cell_type": "code",
   "execution_count": 15,
   "id": "c9201124-4301-44be-a213-46f79006f71d",
   "metadata": {},
   "outputs": [
    {
     "data": {
      "text/plain": [
       "1st               0\n",
       "2nd               0\n",
       "3rd               0\n",
       "4th               0\n",
       "5th               0\n",
       "College Code      0\n",
       "Gender            1\n",
       "Roll              0\n",
       "Roll no.        132\n",
       "Subject Code      0\n",
       "dtype: int64"
      ]
     },
     "execution_count": 15,
     "metadata": {},
     "output_type": "execute_result"
    }
   ],
   "source": [
    "df.isnull().sum()"
   ]
  },
  {
   "cell_type": "code",
   "execution_count": 16,
   "id": "8ae10687-b05a-47a4-93cb-f00c8cd0fe3f",
   "metadata": {},
   "outputs": [],
   "source": [
    "gender = df[\"Gender\"].astype(\"object\")"
   ]
  },
  {
   "cell_type": "code",
   "execution_count": 17,
   "id": "5ee5e040-f447-44d3-a7c7-58da352bdeda",
   "metadata": {},
   "outputs": [],
   "source": [
    "df[\"Gender\"].replace(np.nan, \"Female\", inplace = True)"
   ]
  },
  {
   "cell_type": "code",
   "execution_count": 18,
   "id": "de74014f-ee04-49bc-823a-669b6094cdf8",
   "metadata": {},
   "outputs": [
    {
     "data": {
      "text/plain": [
       "1st               0\n",
       "2nd               0\n",
       "3rd               0\n",
       "4th               0\n",
       "5th               0\n",
       "College Code      0\n",
       "Gender            0\n",
       "Roll              0\n",
       "Roll no.        132\n",
       "Subject Code      0\n",
       "dtype: int64"
      ]
     },
     "execution_count": 18,
     "metadata": {},
     "output_type": "execute_result"
    }
   ],
   "source": [
    "df.isnull().sum()"
   ]
  },
  {
   "cell_type": "code",
   "execution_count": 19,
   "id": "edda14f2-e9a4-4508-936d-96d3d73623f9",
   "metadata": {},
   "outputs": [],
   "source": [
    "max_1st = df[\"1st\"].max()\n",
    "max_2nd = df[\"2nd\"].max()\n",
    "max_3rd = df[\"3rd\"].max()\n",
    "max_4th = df[\"4th\"].max()\n",
    "max_5th = df[\"5th\"].max()"
   ]
  },
  {
   "cell_type": "code",
   "execution_count": 20,
   "id": "8262b755-1448-4230-af2b-daacce27e05b",
   "metadata": {},
   "outputs": [
    {
     "name": "stdout",
     "output_type": "stream",
     "text": [
      "9.15 9.21 9.59 9.31 9.46\n"
     ]
    }
   ],
   "source": [
    "print(max_1st, max_2nd, max_3rd, max_4th, max_5th)"
   ]
  },
  {
   "cell_type": "code",
   "execution_count": 21,
   "id": "08e63b59-75fa-4881-bda9-965dbb3958c4",
   "metadata": {},
   "outputs": [],
   "source": [
    "cgpa_columns = ['1st', '2nd', '3rd', '4th', '5th']\n",
    "max_values = [max_1st, max_2nd, max_3rd, max_4th, max_5th]"
   ]
  },
  {
   "cell_type": "code",
   "execution_count": 22,
   "id": "62cf0d07-8de0-4074-9e40-4fc88bff46a6",
   "metadata": {},
   "outputs": [],
   "source": [
    "for col, max_value in zip(cgpa_columns, max_values):\n",
    "    df[col+'_Percentage'] = (df[col] / max_value) * 100"
   ]
  },
  {
   "cell_type": "code",
   "execution_count": 23,
   "id": "98e1b2b2-662f-4da3-bd65-bcbeb9ad7bc7",
   "metadata": {},
   "outputs": [
    {
     "name": "stdout",
     "output_type": "stream",
     "text": [
      "      1st   2nd   3rd   4th   5th  College Code  Gender          Roll  \\\n",
      "0    8.11  7.68  7.11  7.43  8.18           115  Female  17040.666667   \n",
      "1    6.48  5.90  4.15  4.29  4.96           115    Male  17040.666667   \n",
      "2    8.41  8.24  7.52  8.25  7.75           115  Female  17040.666667   \n",
      "3    7.33  6.83  6.33  6.79  6.89           115    Male  17040.666667   \n",
      "4    7.89  7.34  7.22  7.32  7.46           115    Male  17040.666667   \n",
      "..    ...   ...   ...   ...   ...           ...     ...           ...   \n",
      "173  7.48  7.55  7.67  7.39  8.65           241       F  17048.000000   \n",
      "174  7.30  6.41  6.59  7.11  7.38           241       M  17049.000000   \n",
      "175  6.30  6.28  5.89  5.71  6.50           241       M  17050.000000   \n",
      "176  7.04  7.10  6.81  7.00  6.92           241       M  17051.000000   \n",
      "177  6.70  6.81  6.52  5.39  7.00           241       M  17052.000000   \n",
      "\n",
      "     Roll no.  Subject Code  1st_Percentage  2nd_Percentage  3rd_Percentage  \\\n",
      "0     17020.0            16       88.633880       83.387622       74.139729   \n",
      "1     17021.0            16       70.819672       64.060803       43.274244   \n",
      "2     17022.0            16       91.912568       89.467970       78.415016   \n",
      "3     17023.0            16       80.109290       74.158523       66.006257   \n",
      "4     17024.0            16       86.229508       79.695983       75.286757   \n",
      "..        ...           ...             ...             ...             ...   \n",
      "173       NaN            28       81.748634       81.976113       79.979145   \n",
      "174       NaN            28       79.781421       69.598263       68.717414   \n",
      "175       NaN            28       68.852459       68.186754       61.418144   \n",
      "176       NaN            28       76.939891       77.090119       71.011470   \n",
      "177       NaN            28       73.224044       73.941368       67.987487   \n",
      "\n",
      "     4th_Percentage  5th_Percentage  \n",
      "0         79.806660       86.469345  \n",
      "1         46.079484       52.431290  \n",
      "2         88.614393       81.923890  \n",
      "3         72.932331       72.832981  \n",
      "4         78.625134       78.858351  \n",
      "..              ...             ...  \n",
      "173       79.377014       91.437632  \n",
      "174       76.369495       78.012685  \n",
      "175       61.331901       68.710359  \n",
      "176       75.187970       73.150106  \n",
      "177       57.894737       73.995772  \n",
      "\n",
      "[178 rows x 15 columns]\n"
     ]
    }
   ],
   "source": [
    "print(df)"
   ]
  },
  {
   "cell_type": "code",
   "execution_count": null,
   "id": "03676656-69be-45d2-841b-873fe424b017",
   "metadata": {},
   "outputs": [],
   "source": []
  }
 ],
 "metadata": {
  "kernelspec": {
   "display_name": "Python 3 (ipykernel)",
   "language": "python",
   "name": "python3"
  },
  "language_info": {
   "codemirror_mode": {
    "name": "ipython",
    "version": 3
   },
   "file_extension": ".py",
   "mimetype": "text/x-python",
   "name": "python",
   "nbconvert_exporter": "python",
   "pygments_lexer": "ipython3",
   "version": "3.11.7"
  }
 },
 "nbformat": 4,
 "nbformat_minor": 5
}
