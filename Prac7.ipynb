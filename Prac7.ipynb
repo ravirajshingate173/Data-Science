{
 "cells": [
  {
   "cell_type": "code",
   "execution_count": 1,
   "id": "fbc2bbc5-0390-4af3-9e41-e8c1c2b87362",
   "metadata": {},
   "outputs": [
    {
     "name": "stderr",
     "output_type": "stream",
     "text": [
      "[nltk_data] Downloading package punkt to\n",
      "[nltk_data]     C:\\Users\\ravir\\AppData\\Roaming\\nltk_data...\n",
      "[nltk_data]   Unzipping tokenizers\\punkt.zip.\n",
      "[nltk_data] Downloading package averaged_perceptron_tagger to\n",
      "[nltk_data]     C:\\Users\\ravir\\AppData\\Roaming\\nltk_data...\n",
      "[nltk_data]   Unzipping taggers\\averaged_perceptron_tagger.zip.\n",
      "[nltk_data] Downloading package stopwords to\n",
      "[nltk_data]     C:\\Users\\ravir\\AppData\\Roaming\\nltk_data...\n",
      "[nltk_data]   Unzipping corpora\\stopwords.zip.\n",
      "[nltk_data] Downloading package wordnet to\n",
      "[nltk_data]     C:\\Users\\ravir\\AppData\\Roaming\\nltk_data...\n"
     ]
    }
   ],
   "source": [
    "import nltk\n",
    "nltk.download('punkt')\n",
    "nltk.download('averaged_perceptron_tagger')\n",
    "nltk.download('stopwords')\n",
    "nltk.download('wordnet')\n",
    "from nltk.corpus import stopwords\n",
    "from nltk.tokenize import word_tokenize\n",
    "from nltk.stem import PorterStemmer, WordNetLemmatizer\n",
    "from sklearn.feature_extraction.text import TfidfVectorizer"
   ]
  },
  {
   "cell_type": "code",
   "execution_count": 17,
   "id": "f3948aa2-2e4b-4056-9c6e-27c4d91cd468",
   "metadata": {},
   "outputs": [],
   "source": [
    "document = \" In 1983 , India won their first Cricket World Cup under the captaincy of Kapil Dev , marking a historic movement in Indian Cricket history\""
   ]
  },
  {
   "cell_type": "code",
   "execution_count": 18,
   "id": "dfaaf278-f546-4708-a8c6-84de61264852",
   "metadata": {},
   "outputs": [
    {
     "name": "stdout",
     "output_type": "stream",
     "text": [
      "['In', '1983', ',', 'India', 'won', 'their', 'first', 'Cricket', 'World', 'Cup', 'under', 'the', 'captaincy', 'of', 'Kapil', 'Dev', ',', 'marking', 'a', 'historic', 'movement', 'in', 'Indian', 'Cricket', 'history']\n"
     ]
    }
   ],
   "source": [
    "tokens = word_tokenize(document)\n",
    "print(tokens)"
   ]
  },
  {
   "cell_type": "code",
   "execution_count": 51,
   "id": "955bbf3f-3be3-4f41-a335-9f3984210053",
   "metadata": {},
   "outputs": [
    {
     "name": "stdout",
     "output_type": "stream",
     "text": [
      "['1983', ',', 'India', 'first', 'Cricket', 'World', 'Cup', 'captaincy', 'Kapil', 'Dev', ',', 'marking', 'historic', 'movement', 'Indian', 'Cricket', 'history']\n"
     ]
    }
   ],
   "source": [
    "stop_words = set(stopwords.words('english'))\n",
    "filtered_tokens = [word for word in tokens if word.lower() not in stop_words]\n",
    "print(filtered_tokens)"
   ]
  },
  {
   "cell_type": "code",
   "execution_count": 52,
   "id": "123f5ec8-049b-4e85-ab9a-01943de0893a",
   "metadata": {},
   "outputs": [
    {
     "name": "stdout",
     "output_type": "stream",
     "text": [
      "['1983', ',', 'india', 'first', 'cricket', 'world', 'cup', 'captainci', 'kapil', 'dev', ',', 'mark', 'histor', 'movement', 'indian', 'cricket', 'histori']\n"
     ]
    }
   ],
   "source": [
    "stemmer = PorterStemmer()\n",
    "stemmed_tokens = [stemmer.stem(word) for word in filtered_tokens]\n",
    "print(stemmed_tokens)"
   ]
  },
  {
   "cell_type": "code",
   "execution_count": 53,
   "id": "1a5acb87-e0cb-4f15-bf4b-bf7dd18f3f5e",
   "metadata": {},
   "outputs": [
    {
     "name": "stdout",
     "output_type": "stream",
     "text": [
      "['1983', ',', 'India', 'first', 'Cricket', 'World', 'Cup', 'captaincy', 'Kapil', 'Dev', ',', 'marking', 'historic', 'movement', 'Indian', 'Cricket', 'history']\n"
     ]
    }
   ],
   "source": [
    "lemmatizer = WordNetLemmatizer()\n",
    "lemmatized_tokens = [lemmatizer.lemmatize(word) for word in filtered_tokens]\n",
    "print(lemmatized_tokens)"
   ]
  },
  {
   "cell_type": "code",
   "execution_count": 22,
   "id": "2fd953c3-7c80-4eed-bf2f-b5e903303c80",
   "metadata": {},
   "outputs": [],
   "source": [
    "tfidf_vectorizer = TfidfVectorizer()\n",
    "tfidf_matrix = tfidf_vectorizer.fit_transform([''.join(lemmatized_tokens)])\n",
    "from collections import Counter\n",
    "import math"
   ]
  },
  {
   "cell_type": "code",
   "execution_count": 23,
   "id": "57aee00e-47f8-483c-8406-ab048d56829f",
   "metadata": {},
   "outputs": [],
   "source": [
    "words = document.split()"
   ]
  },
  {
   "cell_type": "code",
   "execution_count": 24,
   "id": "903c9ca3-8eee-413c-925e-10f834b8ff30",
   "metadata": {},
   "outputs": [],
   "source": [
    "word_count = Counter(words)\n",
    "total_words = len(words)\n",
    "tf = {word : Count/total_words for word, Count in word_count.items()}"
   ]
  },
  {
   "cell_type": "code",
   "execution_count": 25,
   "id": "2960eb23-e259-43da-8705-5a3b83ae82d3",
   "metadata": {},
   "outputs": [
    {
     "name": "stdout",
     "output_type": "stream",
     "text": [
      "Term Frequency for each word : \n",
      "In: 0.04\n",
      "1983: 0.04\n",
      ",: 0.08\n",
      "India: 0.04\n",
      "won: 0.04\n",
      "their: 0.04\n",
      "first: 0.04\n",
      "Cricket: 0.08\n",
      "World: 0.04\n",
      "Cup: 0.04\n",
      "under: 0.04\n",
      "the: 0.04\n",
      "captaincy: 0.04\n",
      "of: 0.04\n",
      "Kapil: 0.04\n",
      "Dev: 0.04\n",
      "marking: 0.04\n",
      "a: 0.04\n",
      "historic: 0.04\n",
      "movement: 0.04\n",
      "in: 0.04\n",
      "Indian: 0.04\n",
      "history: 0.04\n"
     ]
    }
   ],
   "source": [
    "print(\"Term Frequency for each word : \")\n",
    "for word, tf_value in tf.items():\n",
    "    print(f\"{word}: {tf_value}\")"
   ]
  },
  {
   "cell_type": "code",
   "execution_count": 26,
   "id": "3e519d43-5f81-4108-b137-a02e4f248524",
   "metadata": {},
   "outputs": [],
   "source": [
    "words = set(document.split())\n",
    "documents_containing_word = Counter()\n",
    "for word in words:\n",
    "    documents_containing_word[word] += 1"
   ]
  },
  {
   "cell_type": "code",
   "execution_count": 30,
   "id": "0c0b70d7-4cf2-49f7-b043-0a9245821401",
   "metadata": {},
   "outputs": [],
   "source": [
    "total_documents = 1\n",
    "idf = {word:math.log(total_documents/count) for word, count in documents_containing_word.items()}"
   ]
  },
  {
   "cell_type": "code",
   "execution_count": 31,
   "id": "a79ef686-0e5a-42aa-818a-9e0f71b5e0db",
   "metadata": {},
   "outputs": [
    {
     "name": "stdout",
     "output_type": "stream",
     "text": [
      "Inverse Document Frequency for each word: \n",
      "Indian: 0.0\n",
      "a: 0.0\n",
      "marking: 0.0\n",
      "history: 0.0\n",
      "Dev: 0.0\n",
      "in: 0.0\n",
      "their: 0.0\n",
      "Cup: 0.0\n",
      "the: 0.0\n",
      "of: 0.0\n",
      "historic: 0.0\n",
      "first: 0.0\n",
      "1983: 0.0\n",
      "won: 0.0\n",
      "Cricket: 0.0\n",
      ",: 0.0\n",
      "In: 0.0\n",
      "India: 0.0\n",
      "World: 0.0\n",
      "captaincy: 0.0\n",
      "under: 0.0\n",
      "Kapil: 0.0\n",
      "movement: 0.0\n"
     ]
    }
   ],
   "source": [
    "print(\"Inverse Document Frequency for each word: \")\n",
    "for word, idf_value in idf.items():\n",
    "    print(f\"{word}: {idf_value}\")"
   ]
  },
  {
   "cell_type": "code",
   "execution_count": null,
   "id": "5f7cf0e1-0b30-456d-a163-963cb14998fa",
   "metadata": {},
   "outputs": [],
   "source": []
  }
 ],
 "metadata": {
  "kernelspec": {
   "display_name": "Python 3 (ipykernel)",
   "language": "python",
   "name": "python3"
  },
  "language_info": {
   "codemirror_mode": {
    "name": "ipython",
    "version": 3
   },
   "file_extension": ".py",
   "mimetype": "text/x-python",
   "name": "python",
   "nbconvert_exporter": "python",
   "pygments_lexer": "ipython3",
   "version": "3.11.7"
  }
 },
 "nbformat": 4,
 "nbformat_minor": 5
}
